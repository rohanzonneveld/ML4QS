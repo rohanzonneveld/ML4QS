{
 "cells": [
  {
   "cell_type": "code",
   "execution_count": 1,
   "metadata": {},
   "outputs": [],
   "source": [
    "import sys\n",
    "sys.path.append('Python3Code')\n",
    "from Python3Code.Chapter3.KalmanFilters import KalmanFilters\n",
    "from Python3Code.Chapter3.DataTransformation import PrincipalComponentAnalysis, LowPassFilter\n",
    "from Python3Code.util.VisualizeDataset import VisualizeDataset\n",
    "import numpy as np\n",
    "import matplotlib.pyplot as plt\n",
    "import pandas as pd"
   ]
  },
  {
   "cell_type": "code",
   "execution_count": 2,
   "metadata": {},
   "outputs": [],
   "source": [
    "# load data\n",
    "data = pd.read_csv('intermediate_datafiles/dataset.csv', index_col=0)"
   ]
  },
  {
   "cell_type": "code",
   "execution_count": 3,
   "metadata": {},
   "outputs": [],
   "source": [
    "# apply Kalman filter\n",
    "kf = KalmanFilters()\n",
    "data = kf.apply_kalman_filter(data, 'accelerometer_X (m/s^2)')\n",
    "data = kf.apply_kalman_filter(data, 'accelerometer_Y (m/s^2)')\n",
    "data = kf.apply_kalman_filter(data, 'accelerometer_Z (m/s^2)')\n",
    "data = kf.apply_kalman_filter(data, 'gyroscope_X (rad/s)')\n",
    "data = kf.apply_kalman_filter(data, 'gyroscope_Y (rad/s)')\n",
    "data = kf.apply_kalman_filter(data, 'gyroscope_Z (rad/s)')\n",
    "data = kf.apply_kalman_filter(data, 'barometer_X (hPa)')\n",
    "data = kf.apply_kalman_filter(data, 'location_Velocity (m/s)')"
   ]
  },
  {
   "cell_type": "code",
   "execution_count": 6,
   "metadata": {},
   "outputs": [
    {
     "name": "stderr",
     "output_type": "stream",
     "text": [
      "The PostScript backend does not support transparency; partially transparent artists will be rendered opaque.\n"
     ]
    }
   ],
   "source": [
    "# plot uncleaned and cleaned data in same plot\n",
    "plt.figure(figsize=(15, 5))\n",
    "\n",
    "# indices on one baan\n",
    "baan = slice(94500, 95500)\n",
    "\n",
    "# Plotting the uncleaned data for each stroke\n",
    "plt.plot(data['accelerometer_X (m/s^2)'][baan], label='Raw', color = 'blue')\n",
    "\n",
    "# Plotting the cleaned data for each stroke\n",
    "plt.plot(data['accelerometer_X (m/s^2)_kalman'][baan], label='Cleaned', color = 'red')\n",
    "\n",
    "plt.ylabel('X (m/s^2)', fontsize=14)\n",
    "plt.legend()\n",
    "plt.show()"
   ]
  },
  {
   "cell_type": "code",
   "execution_count": 7,
   "metadata": {},
   "outputs": [],
   "source": [
    "# apply low pass filter\n",
    "lpf = LowPassFilter()\n",
    "data = lpf.low_pass_filter(data, 'accelerometer_X (m/s^2)_kalman', 100, 10, order=20)\n",
    "data = lpf.low_pass_filter(data, 'accelerometer_Y (m/s^2)_kalman', 100, 10, order=20)\n",
    "data = lpf.low_pass_filter(data, 'accelerometer_Z (m/s^2)_kalman', 100, 10, order=20)\n",
    "data = lpf.low_pass_filter(data, 'gyroscope_X (rad/s)_kalman', 100, 10, order=20)\n",
    "data = lpf.low_pass_filter(data, 'gyroscope_Y (rad/s)_kalman', 100, 10, order=20)\n",
    "data = lpf.low_pass_filter(data, 'gyroscope_Z (rad/s)_kalman', 100, 10, order=20)\n",
    "data = lpf.low_pass_filter(data, 'barometer_X (hPa)_kalman', 100, 10, order=20)\n",
    "data = lpf.low_pass_filter(data, 'location_Velocity (m/s)_kalman', 100, 10, order=20)"
   ]
  },
  {
   "cell_type": "code",
   "execution_count": 10,
   "metadata": {},
   "outputs": [
    {
     "name": "stderr",
     "output_type": "stream",
     "text": [
      "The PostScript backend does not support transparency; partially transparent artists will be rendered opaque.\n"
     ]
    }
   ],
   "source": [
    "# plot kalman filtered and low pass filtered data in same plot\n",
    "plt.figure(figsize=(15, 5))\n",
    "plt.plot(data['accelerometer_X (m/s^2)_kalman'][baan], label='Kalman filtered', color='blue')\n",
    "plt.plot(data['accelerometer_X (m/s^2)_kalman_lowpass'][baan], label='Low pass filtered', color='red')\n",
    "plt.ylabel('X (m/s^2)', fontsize=14)\n",
    "plt.legend()\n",
    "plt.show()"
   ]
  },
  {
   "cell_type": "code",
   "execution_count": 12,
   "metadata": {},
   "outputs": [],
   "source": [
    "# apply PCA\n",
    "pca = PrincipalComponentAnalysis()\n",
    "data = pca.apply_pca(data, ['accelerometer_X (m/s^2)_kalman_lowpass', \n",
    "                            'accelerometer_Y (m/s^2)_kalman_lowpass', \n",
    "                            'accelerometer_Z (m/s^2)_kalman_lowpass', \n",
    "                            'gyroscope_X (rad/s)_kalman_lowpass', \n",
    "                            'gyroscope_Y (rad/s)_kalman_lowpass', \n",
    "                            'gyroscope_Z (rad/s)_kalman_lowpass',\n",
    "                            'barometer_X (hPa)_kalman_lowpass',\n",
    "                            'location_Velocity (m/s)_kalman_lowpass'\n",
    "                            ],\n",
    "                            8)"
   ]
  },
  {
   "cell_type": "code",
   "execution_count": 13,
   "metadata": {},
   "outputs": [],
   "source": [
    "pc_values = pca.determine_pc_explained_variance(data, ['accelerometer_X (m/s^2)_kalman_lowpass', \n",
    "                                                    'accelerometer_Y (m/s^2)_kalman_lowpass', \n",
    "                                                    'accelerometer_Z (m/s^2)_kalman_lowpass', \n",
    "                                                    'gyroscope_X (rad/s)_kalman_lowpass', \n",
    "                                                    'gyroscope_Y (rad/s)_kalman_lowpass', \n",
    "                                                    'gyroscope_Z (rad/s)_kalman_lowpass',\n",
    "                                                    'barometer_X (hPa)_kalman_lowpass',\n",
    "                                                    'location_Velocity (m/s)_kalman_lowpass'\n",
    "                                                    ]\n",
    "                                                    )\n",
    "\n",
    "plt.plot(range(1, 9), pc_values)\n",
    "plt.xlabel('Principal component', fontsize=14)\n",
    "plt.ylabel('Explained variance', fontsize=14)\n",
    "plt.show()\n",
    "                        "
   ]
  },
  {
   "cell_type": "code",
   "execution_count": 20,
   "metadata": {},
   "outputs": [],
   "source": [
    "# export to csv\n",
    "data.to_csv('intermediate_datafiles/cleaned_dataset.csv', index=False)"
   ]
  }
 ],
 "metadata": {
  "kernelspec": {
   "display_name": "MLQS",
   "language": "python",
   "name": "python3"
  },
  "language_info": {
   "codemirror_mode": {
    "name": "ipython",
    "version": 3
   },
   "file_extension": ".py",
   "mimetype": "text/x-python",
   "name": "python",
   "nbconvert_exporter": "python",
   "pygments_lexer": "ipython3",
   "version": "3.8.11"
  },
  "orig_nbformat": 4
 },
 "nbformat": 4,
 "nbformat_minor": 2
}
